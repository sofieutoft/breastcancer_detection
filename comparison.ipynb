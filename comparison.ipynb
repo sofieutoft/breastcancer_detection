{
 "cells": [
  {
   "cell_type": "markdown",
   "id": "044b94fb",
   "metadata": {},
   "source": [
    "This file establishes a benchmark for various image segmentation machine learning models in segmenting the liver and liver tumors."
   ]
  },
  {
   "cell_type": "code",
   "execution_count": null,
   "id": "90f75656",
   "metadata": {
    "vscode": {
     "languageId": "plaintext"
    }
   },
   "outputs": [],
   "source": []
  }
 ],
 "metadata": {
  "language_info": {
   "name": "python"
  }
 },
 "nbformat": 4,
 "nbformat_minor": 5
}
